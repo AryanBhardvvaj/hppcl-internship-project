{
 "cells": [
  {
   "cell_type": "code",
   "execution_count": 1,
   "id": "5d887df2",
   "metadata": {},
   "outputs": [],
   "source": [
    "import pandas as pd \n",
    "from datetime import datetime, timedelta\n",
    "from sklearn.model_selection import train_test_split\n",
    "from sklearn.metrics import mean_squared_error\n",
    "import numpy as np\n",
    "import matplotlib.pyplot as plt\n",
    "import seaborn as sns"
   ]
  },
  {
   "cell_type": "code",
   "execution_count": 2,
   "id": "5158d890",
   "metadata": {},
   "outputs": [
    {
     "data": {
      "text/html": [
       "<div>\n",
       "<style scoped>\n",
       "    .dataframe tbody tr th:only-of-type {\n",
       "        vertical-align: middle;\n",
       "    }\n",
       "\n",
       "    .dataframe tbody tr th {\n",
       "        vertical-align: top;\n",
       "    }\n",
       "\n",
       "    .dataframe thead th {\n",
       "        text-align: right;\n",
       "    }\n",
       "</style>\n",
       "<table border=\"1\" class=\"dataframe\">\n",
       "  <thead>\n",
       "    <tr style=\"text-align: right;\">\n",
       "      <th></th>\n",
       "      <th>DATE</th>\n",
       "      <th>Scheduled Generation</th>\n",
       "      <th>Actual Gen.</th>\n",
       "      <th>Unnamed: 3</th>\n",
       "      <th>Unnamed: 4</th>\n",
       "      <th>Gross Gen.</th>\n",
       "      <th>Net Variation</th>\n",
       "      <th>Energy Export</th>\n",
       "      <th>Unnamed: 8</th>\n",
       "      <th>Total Energy Export</th>\n",
       "      <th>...</th>\n",
       "      <th>Unnamed: 20</th>\n",
       "      <th>Discharge</th>\n",
       "      <th>Unnamed: 22</th>\n",
       "      <th>Unnamed: 23</th>\n",
       "      <th>Reservior Level (Morning)</th>\n",
       "      <th>Unnamed: 25</th>\n",
       "      <th>Unnamed: 26</th>\n",
       "      <th>Reservior Level (Evening)</th>\n",
       "      <th>Unnamed: 28</th>\n",
       "      <th>Unnamed: 29</th>\n",
       "    </tr>\n",
       "  </thead>\n",
       "  <tbody>\n",
       "    <tr>\n",
       "      <th>23</th>\n",
       "      <td>22-Mar-21</td>\n",
       "      <td>360750</td>\n",
       "      <td>384486</td>\n",
       "      <td>0</td>\n",
       "      <td>0</td>\n",
       "      <td>384486</td>\n",
       "      <td>6.58%</td>\n",
       "      <td>0</td>\n",
       "      <td>380240</td>\n",
       "      <td>380240</td>\n",
       "      <td>...</td>\n",
       "      <td>16.02</td>\n",
       "      <td>6.7</td>\n",
       "      <td>6.6</td>\n",
       "      <td>6.65</td>\n",
       "      <td>1417.72</td>\n",
       "      <td>1417.17</td>\n",
       "      <td>1417.445</td>\n",
       "      <td>1417.61</td>\n",
       "      <td>1416.6</td>\n",
       "      <td>1417.105</td>\n",
       "    </tr>\n",
       "    <tr>\n",
       "      <th>24</th>\n",
       "      <td>23-Mar-21</td>\n",
       "      <td>351500</td>\n",
       "      <td>356685</td>\n",
       "      <td>0</td>\n",
       "      <td>0</td>\n",
       "      <td>356685</td>\n",
       "      <td>1.48%</td>\n",
       "      <td>0</td>\n",
       "      <td>352560</td>\n",
       "      <td>352560</td>\n",
       "      <td>...</td>\n",
       "      <td>14.86</td>\n",
       "      <td>7</td>\n",
       "      <td>6.65</td>\n",
       "      <td>6.825</td>\n",
       "      <td>1417.74</td>\n",
       "      <td>1417.18</td>\n",
       "      <td>1417.46</td>\n",
       "      <td>1417.65</td>\n",
       "      <td>1416.58</td>\n",
       "      <td>1417.115</td>\n",
       "    </tr>\n",
       "    <tr>\n",
       "      <th>25</th>\n",
       "      <td>24-Mar-21</td>\n",
       "      <td>444000</td>\n",
       "      <td>0</td>\n",
       "      <td>455123</td>\n",
       "      <td>0</td>\n",
       "      <td>455123</td>\n",
       "      <td>2.51%</td>\n",
       "      <td>0</td>\n",
       "      <td>450240</td>\n",
       "      <td>450240</td>\n",
       "      <td>...</td>\n",
       "      <td>18.96</td>\n",
       "      <td>7</td>\n",
       "      <td>6.7</td>\n",
       "      <td>6.85</td>\n",
       "      <td>1417.7</td>\n",
       "      <td>1416.98</td>\n",
       "      <td>1417.34</td>\n",
       "      <td>1416.9</td>\n",
       "      <td>1415.45</td>\n",
       "      <td>1416.175</td>\n",
       "    </tr>\n",
       "    <tr>\n",
       "      <th>26</th>\n",
       "      <td>25-Mar-21</td>\n",
       "      <td>333000</td>\n",
       "      <td>0</td>\n",
       "      <td>345654</td>\n",
       "      <td>0</td>\n",
       "      <td>345654</td>\n",
       "      <td>3.80%</td>\n",
       "      <td>0</td>\n",
       "      <td>341920</td>\n",
       "      <td>341920</td>\n",
       "      <td>...</td>\n",
       "      <td>14.4</td>\n",
       "      <td>7</td>\n",
       "      <td>6.7</td>\n",
       "      <td>6.85</td>\n",
       "      <td>1416.87</td>\n",
       "      <td>1416.25</td>\n",
       "      <td>1416.56</td>\n",
       "      <td>1416.64</td>\n",
       "      <td>1415.3</td>\n",
       "      <td>1415.97</td>\n",
       "    </tr>\n",
       "    <tr>\n",
       "      <th>27</th>\n",
       "      <td>26-Mar-21</td>\n",
       "      <td>370000</td>\n",
       "      <td>0</td>\n",
       "      <td>0</td>\n",
       "      <td>389843</td>\n",
       "      <td>389843</td>\n",
       "      <td>5.36%</td>\n",
       "      <td>0</td>\n",
       "      <td>385520</td>\n",
       "      <td>385520</td>\n",
       "      <td>...</td>\n",
       "      <td>16.24</td>\n",
       "      <td>7</td>\n",
       "      <td>6.7</td>\n",
       "      <td>6.85</td>\n",
       "      <td>1416.6</td>\n",
       "      <td>1416.15</td>\n",
       "      <td>1416.375</td>\n",
       "      <td>1416.63</td>\n",
       "      <td>1414.75</td>\n",
       "      <td>1415.69</td>\n",
       "    </tr>\n",
       "  </tbody>\n",
       "</table>\n",
       "<p>5 rows × 30 columns</p>\n",
       "</div>"
      ],
      "text/plain": [
       "         DATE Scheduled Generation  \\\n",
       "23  22-Mar-21               360750   \n",
       "24  23-Mar-21               351500   \n",
       "25  24-Mar-21               444000   \n",
       "26  25-Mar-21               333000   \n",
       "27  26-Mar-21               370000   \n",
       "\n",
       "   Actual Gen.                                   Unnamed: 3 Unnamed: 4  \\\n",
       "23                                        384486          0          0   \n",
       "24                                        356685          0          0   \n",
       "25                                             0     455123          0   \n",
       "26                                             0     345654          0   \n",
       "27                                             0          0     389843   \n",
       "\n",
       "   Gross Gen. Net Variation Energy Export Unnamed: 8 Total Energy Export  ...  \\\n",
       "23     384486         6.58%             0     380240              380240  ...   \n",
       "24     356685         1.48%             0     352560              352560  ...   \n",
       "25     455123         2.51%             0     450240              450240  ...   \n",
       "26     345654         3.80%             0     341920              341920  ...   \n",
       "27     389843         5.36%             0     385520              385520  ...   \n",
       "\n",
       "   Unnamed: 20 Discharge Unnamed: 22 Unnamed: 23 Reservior Level (Morning)  \\\n",
       "23       16.02       6.7         6.6        6.65                   1417.72   \n",
       "24       14.86         7        6.65       6.825                   1417.74   \n",
       "25       18.96         7         6.7        6.85                    1417.7   \n",
       "26        14.4         7         6.7        6.85                   1416.87   \n",
       "27       16.24         7         6.7        6.85                    1416.6   \n",
       "\n",
       "   Unnamed: 25 Unnamed: 26 Reservior Level (Evening) Unnamed: 28 Unnamed: 29  \n",
       "23     1417.17    1417.445                   1417.61      1416.6    1417.105  \n",
       "24     1417.18     1417.46                   1417.65     1416.58    1417.115  \n",
       "25     1416.98     1417.34                    1416.9     1415.45    1416.175  \n",
       "26     1416.25     1416.56                   1416.64      1415.3     1415.97  \n",
       "27     1416.15    1416.375                   1416.63     1414.75     1415.69  \n",
       "\n",
       "[5 rows x 30 columns]"
      ]
     },
     "execution_count": 2,
     "metadata": {},
     "output_type": "execute_result"
    }
   ],
   "source": [
    "df = pd.read_csv('mastersk.csv')\n",
    "df = df.dropna()\n",
    "df.head(5)"
   ]
  },
  {
   "cell_type": "code",
   "execution_count": 3,
   "id": "7df5f52b",
   "metadata": {},
   "outputs": [],
   "source": [
    "df.to_csv('test.csv')"
   ]
  },
  {
   "cell_type": "code",
   "execution_count": 4,
   "id": "087b3cee",
   "metadata": {},
   "outputs": [],
   "source": [
    "#----------------------------------------- renaming data ------------------------\n",
    "df = df.rename(columns={'Unnamed: 15': 'Aux. Consumption and losses percentage'})\n",
    "df = df.rename(columns={'Load': 'Load max.'})\n",
    "df = df.rename(columns={'Unnamed: 19': 'Load min.'})\n",
    "df = df.rename(columns={'Unnamed: 20': 'Load avg.'})\n",
    "df = df.rename(columns={'Discharge': 'Discharge max.'})\n",
    "df = df.rename(columns={'Unnamed: 22': 'Discharge min.'})\n",
    "df = df.rename(columns={'Unnamed: 23': 'Discharge avg.'})\n",
    "df = df.rename(columns={'Reservior Level (Morning)': 'Reserv lvl(M) max.'})\n",
    "df = df.rename(columns={'Unnamed: 25': 'Reserv lvl(M) min.'})\n",
    "df = df.rename(columns={'Unnamed: 26': 'Reserv lvl(M) avg.'})\n",
    "df = df.rename(columns={'Reservior Level (Evening)': 'Reserv lvl(E) max.'})\n",
    "df = df.rename(columns={'Unnamed: 28': 'Reserv lvl(E) min.'})\n",
    "df = df.rename(columns={'Unnamed: 29': 'Reserv lvl(E) avg.'})\n"
   ]
  },
  {
   "cell_type": "code",
   "execution_count": 5,
   "id": "a0b8663c",
   "metadata": {},
   "outputs": [
    {
     "name": "stdout",
     "output_type": "stream",
     "text": [
      "object\n"
     ]
    }
   ],
   "source": [
    "#------------------------------------- handling % sign -----------------------------------\n",
    "\n",
    "df['Net Variation'] = df['Net Variation'].str.rstrip('%')\n",
    "df['Aux. Consumption and losses percentage'] = df['Aux. Consumption and losses percentage'].str.rstrip('%')\n",
    "\n",
    "df.to_csv('test.csv')\n",
    "\n",
    "#------------------------------------- final sampe data ----------------------------------\n",
    "# df = df.drop(df.columns[0], axis=1)\n",
    "# df.to_csv(\"codegenfiles/exp.csv\")\n",
    "print(df['DATE'].dtype)\n",
    "df.to_csv(\"test.csv\")\n"
   ]
  },
  {
   "cell_type": "code",
   "execution_count": 6,
   "id": "449f1644",
   "metadata": {},
   "outputs": [],
   "source": [
    "#------------------------------------  droping unnecessory coloumns ---------------------------\n",
    "\n",
    "\n",
    "# df=df.drop(['Energy Export','Unnamed: 8'],axis=1)\n",
    "# df=df.drop(['Energy Import','Unnamed: 11'],axis=1)\n",
    "# df = df.drop([\"Plant Operating Availability \"],axis=1)\n",
    "df=df.drop([\"Actual Gen.                                  \",\"Unnamed: 3\",],axis=1)\n",
    "df=df.drop([\"Total Energy Import\"],axis=1)\n",
    "# df=df.drop([\"Max. Silt Content\",\"Unnamed: 28\",\"Unnamed: 29\"],axis=1)\n",
    "\n",
    "\n",
    "\n",
    "#------------------------------------- handling unknown values----------------------------\n",
    "\n",
    "df=df.replace('#REF!',0)\n",
    "df=df.replace('#DIV/0!',0)\n",
    "df.to_csv('test.csv')"
   ]
  },
  {
   "cell_type": "code",
   "execution_count": 7,
   "id": "311ba06f",
   "metadata": {},
   "outputs": [
    {
     "name": "stdout",
     "output_type": "stream",
     "text": [
      "Index(['DATE', 'Scheduled Generation', 'Unnamed: 4', 'Gross Gen.',\n",
      "       'Net Variation', 'Energy Export', 'Unnamed: 8', 'Total Energy Export',\n",
      "       'Energy Import', 'Unnamed: 11', 'Net Generation',\n",
      "       'Aux. Consumption and losses', 'Aux. Consumption and losses percentage',\n",
      "       'Plant  Operating Availability ', 'Commulative Gross Gen.', 'Load max.',\n",
      "       'Load min.', 'Load avg.', 'Discharge max.', 'Discharge min.',\n",
      "       'Discharge avg.', 'Reserv lvl(M) max.', 'Reserv lvl(M) min.',\n",
      "       'Reserv lvl(M) avg.', 'Reserv lvl(E) max.', 'Reserv lvl(E) min.',\n",
      "       'Reserv lvl(E) avg.'],\n",
      "      dtype='object')\n"
     ]
    }
   ],
   "source": [
    "print(df.columns)"
   ]
  },
  {
   "cell_type": "code",
   "execution_count": 8,
   "id": "b1dd5aab",
   "metadata": {},
   "outputs": [],
   "source": [
    "#------------------------------------- data preprocessing ---------------------------------\n",
    "# df = df.drop(\"Plant Operating  Availability \",axis='columns')\n",
    "df=df.fillna(0)\n",
    "\n",
    "columns_to_convert = [\n",
    "    'Scheduled Generation', 'Unnamed: 4', 'Gross Gen.',\n",
    "       'Net Variation', 'Total Energy Export', 'Net Generation',\n",
    "       'Aux. Consumption and losses', 'Aux. Consumption and losses percentage',\n",
    "       'Plant  Operating Availability ', 'Commulative Gross Gen.', 'Load max.',\n",
    "       'Load min.', 'Load avg.', 'Discharge max.', 'Discharge min.',\n",
    "       'Discharge avg.', 'Reserv lvl(M) max.', 'Reserv lvl(M) min.',\n",
    "       'Reserv lvl(M) avg.', 'Reserv lvl(E) max.', 'Reserv lvl(E) min.',\n",
    "       'Reserv lvl(E) avg.']\n",
    "\n",
    "df['DATE'] = pd.to_datetime(df['DATE'], format=\"%d-%b-%y\")\n",
    "\n",
    "# Convert datetime object to the desired format within a Series\n",
    "df['DATE'] = df['DATE'].dt.strftime(\"%Y-%m-%d\")\n",
    "\n",
    "for column in columns_to_convert:\n",
    "    df[column] = pd.to_numeric(df[column], errors='coerce')\n",
    "    \n",
    "df=df.fillna(0)\n",
    "\n",
    "\n",
    "for column in columns_to_convert:\n",
    "    df[column] = df[column].replace(0, df[column].mean())\n",
    "\n",
    "# df.to_csv(\"test.csv\")"
   ]
  },
  {
   "cell_type": "code",
   "execution_count": 9,
   "id": "025728dd",
   "metadata": {},
   "outputs": [],
   "source": [
    "# Convert string to datetime object\n",
    "# import pandas as pd\n",
    "# df['DATE'] = pd.to_datetime(df['DATE'], format=\"%d-%m-%Y\")\n",
    "\n",
    "# # Convert datetime object to the desired format\n",
    "# df['DATE'] = df['DATE'].dt.strftime(\"%Y-%m-%d\")"
   ]
  },
  {
   "cell_type": "code",
   "execution_count": 10,
   "id": "33a756fd",
   "metadata": {},
   "outputs": [],
   "source": [
    "#----------------------------------- Train and test data ---------------------------------\n",
    "from sklearn.model_selection import train_test_split\n",
    "\n",
    "\n",
    "\n",
    "X = df[['Scheduled Generation', 'Unnamed: 4', 'Gross Gen.',\n",
    "       'Net Variation', 'Total Energy Export', 'Net Generation',\n",
    "       'Aux. Consumption and losses', 'Aux. Consumption and losses percentage',\n",
    "       'Plant  Operating Availability ', 'Load max.',\n",
    "       'Load min.', 'Load avg.', 'Discharge max.', 'Discharge min.',\n",
    "       'Discharge avg.', 'Reserv lvl(M) max.', 'Reserv lvl(M) min.',\n",
    "       'Reserv lvl(M) avg.', 'Reserv lvl(E) max.', 'Reserv lvl(E) min.',\n",
    "       'Reserv lvl(E) avg.']]\n",
    "y = df[['Commulative Gross Gen.']]\n",
    "\n",
    "X_train, X_test, y_train, y_test = train_test_split(X, y, test_size=0.4, random_state=25)"
   ]
  },
  {
   "cell_type": "code",
   "execution_count": 11,
   "id": "8ec49b91",
   "metadata": {},
   "outputs": [
    {
     "data": {
      "image/png": "[encoded data removed]",
      "text/plain": [
       "<Figure size 1296x1296 with 2 Axes>"
      ]
     },
     "metadata": {
      "needs_background": "light"
     },
     "output_type": "display_data"
    }
   ],
   "source": [
    "#------------------------------------- Heat Map of x train ----------------------------------\n",
    "\n",
    "import matplotlib.pyplot as plt\n",
    "import seaborn as sns\n",
    "\n",
    "\n",
    "x1=X_train.loc[:,['Scheduled Generation', 'Unnamed: 4', 'Gross Gen.',\n",
    "       'Net Variation', 'Total Energy Export', 'Net Generation',\n",
    "       'Aux. Consumption and losses', 'Aux. Consumption and losses percentage',\n",
    "       'Plant  Operating Availability ', 'Load max.',\n",
    "       'Load min.', 'Load avg.', 'Discharge max.', 'Discharge min.',\n",
    "       'Discharge avg.', 'Reserv lvl(M) max.', 'Reserv lvl(M) min.',\n",
    "       'Reserv lvl(M) avg.', 'Reserv lvl(E) max.', 'Reserv lvl(E) min.',\n",
    "       'Reserv lvl(E) avg.']]\n",
    "\n",
    "y1 = y_train['Commulative Gross Gen.']\n",
    "\n",
    "\n",
    "plt.figure(figsize=(18,18))#at green side it is highly corrilated value close to 1\n",
    "sns.heatmap(x1.corr(),cmap=\"RdYlGn\")\n",
    "plt.show()"
   ]
  },
  {
   "cell_type": "code",
   "execution_count": 12,
   "id": "f66cbd77",
   "metadata": {},
   "outputs": [
    {
     "name": "stdout",
     "output_type": "stream",
     "text": [
      "[0.06258593 0.04741231 0.071505   0.05941094 0.0653879  0.06874634\n",
      " 0.05808144 0.05292433 0.05709809 0.06642565 0.03036077 0.02807863\n",
      " 0.04672646 0.0739301  0.0533669  0.03603439 0.02651496 0.02960921\n",
      " 0.02155009 0.02401727 0.0202333 ]\n"
     ]
    }
   ],
   "source": [
    "# ----------------------------------- Extra Trees Regressor ---------------------------\n",
    "\n",
    "from sklearn.ensemble import ExtraTreesRegressor\n",
    "selection = ExtraTreesRegressor()\n",
    "selection.fit(x1,y1)\n",
    "\n",
    "#------------------------------------ Importent Features ----------------------------\n",
    "print(selection.feature_importances_)"
   ]
  },
  {
   "cell_type": "code",
   "execution_count": 13,
   "id": "dd63c04a",
   "metadata": {},
   "outputs": [
    {
     "data": {
      "image/png": "[encoded data removed]",
      "text/plain": [
       "<Figure size 864x576 with 1 Axes>"
      ]
     },
     "metadata": {
      "needs_background": "light"
     },
     "output_type": "display_data"
    }
   ],
   "source": [
    "#------------------------------------ Plot Graph of imp features --------------------\n",
    "\n",
    "#plot graph of feature importances for better visualization\n",
    "\n",
    "plt.figure(figsize = (12,8))\n",
    "feat_importances = pd.Series(selection.feature_importances_, index=x1.columns)\n",
    "feat_importances.nlargest(20).plot(kind='barh')\n",
    "plt.show()\n",
    "\n"
   ]
  },
  {
   "cell_type": "code",
   "execution_count": 14,
   "id": "c1ef4bad",
   "metadata": {},
   "outputs": [
    {
     "name": "stderr",
     "output_type": "stream",
     "text": [
      "C:\\Users\\KIIT\\AppData\\Local\\Temp\\ipykernel_14412\\1094736707.py:5: DataConversionWarning: A column-vector y was passed when a 1d array was expected. Please change the shape of y to (n_samples,), for example using ravel().\n",
      "  reg_rf.fit(X_train, y_train)\n"
     ]
    },
    {
     "data": {
      "image/png": "[encoded data removed]",
      "text/plain": [
       "<Figure size 360x360 with 1 Axes>"
      ]
     },
     "metadata": {
      "needs_background": "light"
     },
     "output_type": "display_data"
    },
    {
     "data": {
      "image/png": "[encoded data removed]",
      "text/plain": [
       "<Figure size 432x288 with 1 Axes>"
      ]
     },
     "metadata": {
      "needs_background": "light"
     },
     "output_type": "display_data"
    }
   ],
   "source": [
    "#------------------------------------ Random Forest application  --------------------\n",
    "\n",
    "from sklearn.ensemble import RandomForestRegressor\n",
    "reg_rf = RandomForestRegressor()\n",
    "reg_rf.fit(X_train, y_train)\n",
    "\n",
    "\n",
    "y_pred = reg_rf.predict(X_test)\n",
    "\n",
    "reg_rf.score(X_train,y_train)\n",
    "\n",
    "#this is the r2 score\n",
    "\n",
    "reg_rf.score(X_test,y_test)\n",
    "#test data score\n",
    "\n",
    "#price plot \n",
    "\n",
    "sns.displot(y_test.values.ravel() - y_pred)\n",
    "plt.show()\n",
    "\n",
    "\n",
    "#scatter plot\n",
    "plt.scatter(y_test,y_pred,alpha=0.5)\n",
    "plt.show()\n"
   ]
  },
  {
   "cell_type": "code",
   "execution_count": 15,
   "id": "4466e445",
   "metadata": {},
   "outputs": [
    {
     "name": "stdout",
     "output_type": "stream",
     "text": [
      "MAE: 6504108.186046454\n",
      "MSE: 90574499942108.64\n",
      "RMSE: 9517063.619736323\n",
      "0.3814705206321719\n"
     ]
    }
   ],
   "source": [
    "# ------------------------------------- Error calculation mse , rmse , mae---------------------\n",
    "\n",
    "from sklearn import metrics\n",
    "import numpy as np\n",
    "\n",
    "print('MAE:', metrics.mean_absolute_error(y_test, y_pred))\n",
    "print('MSE:', metrics.mean_squared_error(y_test, y_pred))\n",
    "print('RMSE:', np.sqrt(metrics.mean_squared_error(y_test, y_pred)))\n",
    "\n",
    "#check the r2_score(coffetient of determination)\n",
    "r2score = metrics.r2_score(y_test,y_pred)\n",
    "\n",
    "print(r2score)"
   ]
  },
  {
   "cell_type": "code",
   "execution_count": null,
   "id": "1a8922c8",
   "metadata": {},
   "outputs": [
    {
     "name": "stdout",
     "output_type": "stream",
     "text": [
      "Fitting 5 folds for each of 10 candidates, totalling 50 fits\n"
     ]
    },
    {
     "name": "stderr",
     "output_type": "stream",
     "text": [
      "C:\\Users\\KIIT\\AppData\\Local\\Programs\\Python\\Python310\\lib\\site-packages\\sklearn\\model_selection\\_validation.py:686: DataConversionWarning: A column-vector y was passed when a 1d array was expected. Please change the shape of y to (n_samples,), for example using ravel().\n",
      "  estimator.fit(X_train, y_train, **fit_params)\n"
     ]
    },
    {
     "name": "stdout",
     "output_type": "stream",
     "text": [
      "[CV] END max_depth=10, max_features=sqrt, min_samples_leaf=5, min_samples_split=5, n_estimators=900; total time=   4.7s\n"
     ]
    },
    {
     "name": "stderr",
     "output_type": "stream",
     "text": [
      "C:\\Users\\KIIT\\AppData\\Local\\Programs\\Python\\Python310\\lib\\site-packages\\sklearn\\model_selection\\_validation.py:686: DataConversionWarning: A column-vector y was passed when a 1d array was expected. Please change the shape of y to (n_samples,), for example using ravel().\n",
      "  estimator.fit(X_train, y_train, **fit_params)\n"
     ]
    },
    {
     "name": "stdout",
     "output_type": "stream",
     "text": [
      "[CV] END max_depth=10, max_features=sqrt, min_samples_leaf=5, min_samples_split=5, n_estimators=900; total time=   4.5s\n"
     ]
    },
    {
     "name": "stderr",
     "output_type": "stream",
     "text": [
      "C:\\Users\\KIIT\\AppData\\Local\\Programs\\Python\\Python310\\lib\\site-packages\\sklearn\\model_selection\\_validation.py:686: DataConversionWarning: A column-vector y was passed when a 1d array was expected. Please change the shape of y to (n_samples,), for example using ravel().\n",
      "  estimator.fit(X_train, y_train, **fit_params)\n"
     ]
    },
    {
     "name": "stdout",
     "output_type": "stream",
     "text": [
      "[CV] END max_depth=10, max_features=sqrt, min_samples_leaf=5, min_samples_split=5, n_estimators=900; total time=   4.8s\n"
     ]
    },
    {
     "name": "stderr",
     "output_type": "stream",
     "text": [
      "C:\\Users\\KIIT\\AppData\\Local\\Programs\\Python\\Python310\\lib\\site-packages\\sklearn\\model_selection\\_validation.py:686: DataConversionWarning: A column-vector y was passed when a 1d array was expected. Please change the shape of y to (n_samples,), for example using ravel().\n",
      "  estimator.fit(X_train, y_train, **fit_params)\n"
     ]
    },
    {
     "name": "stdout",
     "output_type": "stream",
     "text": [
      "[CV] END max_depth=10, max_features=sqrt, min_samples_leaf=5, min_samples_split=5, n_estimators=900; total time=   4.6s\n"
     ]
    },
    {
     "name": "stderr",
     "output_type": "stream",
     "text": [
      "C:\\Users\\KIIT\\AppData\\Local\\Programs\\Python\\Python310\\lib\\site-packages\\sklearn\\model_selection\\_validation.py:686: DataConversionWarning: A column-vector y was passed when a 1d array was expected. Please change the shape of y to (n_samples,), for example using ravel().\n",
      "  estimator.fit(X_train, y_train, **fit_params)\n"
     ]
    },
    {
     "name": "stdout",
     "output_type": "stream",
     "text": [
      "[CV] END max_depth=10, max_features=sqrt, min_samples_leaf=5, min_samples_split=5, n_estimators=900; total time=   4.8s\n"
     ]
    },
    {
     "name": "stderr",
     "output_type": "stream",
     "text": [
      "C:\\Users\\KIIT\\AppData\\Local\\Programs\\Python\\Python310\\lib\\site-packages\\sklearn\\model_selection\\_validation.py:686: DataConversionWarning: A column-vector y was passed when a 1d array was expected. Please change the shape of y to (n_samples,), for example using ravel().\n",
      "  estimator.fit(X_train, y_train, **fit_params)\n"
     ]
    },
    {
     "name": "stdout",
     "output_type": "stream",
     "text": [
      "[CV] END max_depth=15, max_features=sqrt, min_samples_leaf=2, min_samples_split=10, n_estimators=1100; total time=   6.4s\n"
     ]
    },
    {
     "name": "stderr",
     "output_type": "stream",
     "text": [
      "C:\\Users\\KIIT\\AppData\\Local\\Programs\\Python\\Python310\\lib\\site-packages\\sklearn\\model_selection\\_validation.py:686: DataConversionWarning: A column-vector y was passed when a 1d array was expected. Please change the shape of y to (n_samples,), for example using ravel().\n",
      "  estimator.fit(X_train, y_train, **fit_params)\n"
     ]
    },
    {
     "name": "stdout",
     "output_type": "stream",
     "text": [
      "[CV] END max_depth=15, max_features=sqrt, min_samples_leaf=2, min_samples_split=10, n_estimators=1100; total time=   6.2s\n"
     ]
    },
    {
     "name": "stderr",
     "output_type": "stream",
     "text": [
      "C:\\Users\\KIIT\\AppData\\Local\\Programs\\Python\\Python310\\lib\\site-packages\\sklearn\\model_selection\\_validation.py:686: DataConversionWarning: A column-vector y was passed when a 1d array was expected. Please change the shape of y to (n_samples,), for example using ravel().\n",
      "  estimator.fit(X_train, y_train, **fit_params)\n"
     ]
    },
    {
     "name": "stdout",
     "output_type": "stream",
     "text": [
      "[CV] END max_depth=15, max_features=sqrt, min_samples_leaf=2, min_samples_split=10, n_estimators=1100; total time=   6.3s\n"
     ]
    },
    {
     "name": "stderr",
     "output_type": "stream",
     "text": [
      "C:\\Users\\KIIT\\AppData\\Local\\Programs\\Python\\Python310\\lib\\site-packages\\sklearn\\model_selection\\_validation.py:686: DataConversionWarning: A column-vector y was passed when a 1d array was expected. Please change the shape of y to (n_samples,), for example using ravel().\n",
      "  estimator.fit(X_train, y_train, **fit_params)\n"
     ]
    },
    {
     "name": "stdout",
     "output_type": "stream",
     "text": [
      "[CV] END max_depth=15, max_features=sqrt, min_samples_leaf=2, min_samples_split=10, n_estimators=1100; total time=   6.5s\n"
     ]
    },
    {
     "name": "stderr",
     "output_type": "stream",
     "text": [
      "C:\\Users\\KIIT\\AppData\\Local\\Programs\\Python\\Python310\\lib\\site-packages\\sklearn\\model_selection\\_validation.py:686: DataConversionWarning: A column-vector y was passed when a 1d array was expected. Please change the shape of y to (n_samples,), for example using ravel().\n",
      "  estimator.fit(X_train, y_train, **fit_params)\n"
     ]
    },
    {
     "name": "stdout",
     "output_type": "stream",
     "text": [
      "[CV] END max_depth=15, max_features=sqrt, min_samples_leaf=2, min_samples_split=10, n_estimators=1100; total time=   6.5s\n"
     ]
    },
    {
     "name": "stderr",
     "output_type": "stream",
     "text": [
      "C:\\Users\\KIIT\\AppData\\Local\\Programs\\Python\\Python310\\lib\\site-packages\\sklearn\\model_selection\\_validation.py:686: DataConversionWarning: A column-vector y was passed when a 1d array was expected. Please change the shape of y to (n_samples,), for example using ravel().\n",
      "  estimator.fit(X_train, y_train, **fit_params)\n",
      "C:\\Users\\KIIT\\AppData\\Local\\Programs\\Python\\Python310\\lib\\site-packages\\sklearn\\ensemble\\_forest.py:413: FutureWarning: `max_features='auto'` has been deprecated in 1.1 and will be removed in 1.3. To keep the past behaviour, explicitly set `max_features=1.0` or remove this parameter as it is also the default value for RandomForestRegressors and ExtraTreesRegressors.\n",
      "  warn(\n"
     ]
    },
    {
     "name": "stdout",
     "output_type": "stream",
     "text": [
      "[CV] END max_depth=15, max_features=auto, min_samples_leaf=5, min_samples_split=100, n_estimators=300; total time=   2.1s\n"
     ]
    },
    {
     "name": "stderr",
     "output_type": "stream",
     "text": [
      "C:\\Users\\KIIT\\AppData\\Local\\Programs\\Python\\Python310\\lib\\site-packages\\sklearn\\model_selection\\_validation.py:686: DataConversionWarning: A column-vector y was passed when a 1d array was expected. Please change the shape of y to (n_samples,), for example using ravel().\n",
      "  estimator.fit(X_train, y_train, **fit_params)\n",
      "C:\\Users\\KIIT\\AppData\\Local\\Programs\\Python\\Python310\\lib\\site-packages\\sklearn\\ensemble\\_forest.py:413: FutureWarning: `max_features='auto'` has been deprecated in 1.1 and will be removed in 1.3. To keep the past behaviour, explicitly set `max_features=1.0` or remove this parameter as it is also the default value for RandomForestRegressors and ExtraTreesRegressors.\n",
      "  warn(\n"
     ]
    },
    {
     "name": "stdout",
     "output_type": "stream",
     "text": [
      "[CV] END max_depth=15, max_features=auto, min_samples_leaf=5, min_samples_split=100, n_estimators=300; total time=   2.2s\n"
     ]
    },
    {
     "name": "stderr",
     "output_type": "stream",
     "text": [
      "C:\\Users\\KIIT\\AppData\\Local\\Programs\\Python\\Python310\\lib\\site-packages\\sklearn\\model_selection\\_validation.py:686: DataConversionWarning: A column-vector y was passed when a 1d array was expected. Please change the shape of y to (n_samples,), for example using ravel().\n",
      "  estimator.fit(X_train, y_train, **fit_params)\n",
      "C:\\Users\\KIIT\\AppData\\Local\\Programs\\Python\\Python310\\lib\\site-packages\\sklearn\\ensemble\\_forest.py:413: FutureWarning: `max_features='auto'` has been deprecated in 1.1 and will be removed in 1.3. To keep the past behaviour, explicitly set `max_features=1.0` or remove this parameter as it is also the default value for RandomForestRegressors and ExtraTreesRegressors.\n",
      "  warn(\n"
     ]
    },
    {
     "name": "stdout",
     "output_type": "stream",
     "text": [
      "[CV] END max_depth=15, max_features=auto, min_samples_leaf=5, min_samples_split=100, n_estimators=300; total time=   2.0s\n"
     ]
    },
    {
     "name": "stderr",
     "output_type": "stream",
     "text": [
      "C:\\Users\\KIIT\\AppData\\Local\\Programs\\Python\\Python310\\lib\\site-packages\\sklearn\\model_selection\\_validation.py:686: DataConversionWarning: A column-vector y was passed when a 1d array was expected. Please change the shape of y to (n_samples,), for example using ravel().\n",
      "  estimator.fit(X_train, y_train, **fit_params)\n",
      "C:\\Users\\KIIT\\AppData\\Local\\Programs\\Python\\Python310\\lib\\site-packages\\sklearn\\ensemble\\_forest.py:413: FutureWarning: `max_features='auto'` has been deprecated in 1.1 and will be removed in 1.3. To keep the past behaviour, explicitly set `max_features=1.0` or remove this parameter as it is also the default value for RandomForestRegressors and ExtraTreesRegressors.\n",
      "  warn(\n"
     ]
    },
    {
     "name": "stdout",
     "output_type": "stream",
     "text": [
      "[CV] END max_depth=15, max_features=auto, min_samples_leaf=5, min_samples_split=100, n_estimators=300; total time=   2.1s\n"
     ]
    },
    {
     "name": "stderr",
     "output_type": "stream",
     "text": [
      "C:\\Users\\KIIT\\AppData\\Local\\Programs\\Python\\Python310\\lib\\site-packages\\sklearn\\model_selection\\_validation.py:686: DataConversionWarning: A column-vector y was passed when a 1d array was expected. Please change the shape of y to (n_samples,), for example using ravel().\n",
      "  estimator.fit(X_train, y_train, **fit_params)\n",
      "C:\\Users\\KIIT\\AppData\\Local\\Programs\\Python\\Python310\\lib\\site-packages\\sklearn\\ensemble\\_forest.py:413: FutureWarning: `max_features='auto'` has been deprecated in 1.1 and will be removed in 1.3. To keep the past behaviour, explicitly set `max_features=1.0` or remove this parameter as it is also the default value for RandomForestRegressors and ExtraTreesRegressors.\n",
      "  warn(\n"
     ]
    },
    {
     "name": "stdout",
     "output_type": "stream",
     "text": [
      "[CV] END max_depth=15, max_features=auto, min_samples_leaf=5, min_samples_split=100, n_estimators=300; total time=   2.2s\n"
     ]
    },
    {
     "name": "stderr",
     "output_type": "stream",
     "text": [
      "C:\\Users\\KIIT\\AppData\\Local\\Programs\\Python\\Python310\\lib\\site-packages\\sklearn\\model_selection\\_validation.py:686: DataConversionWarning: A column-vector y was passed when a 1d array was expected. Please change the shape of y to (n_samples,), for example using ravel().\n",
      "  estimator.fit(X_train, y_train, **fit_params)\n",
      "C:\\Users\\KIIT\\AppData\\Local\\Programs\\Python\\Python310\\lib\\site-packages\\sklearn\\ensemble\\_forest.py:413: FutureWarning: `max_features='auto'` has been deprecated in 1.1 and will be removed in 1.3. To keep the past behaviour, explicitly set `max_features=1.0` or remove this parameter as it is also the default value for RandomForestRegressors and ExtraTreesRegressors.\n",
      "  warn(\n"
     ]
    },
    {
     "name": "stdout",
     "output_type": "stream",
     "text": [
      "[CV] END max_depth=15, max_features=auto, min_samples_leaf=5, min_samples_split=5, n_estimators=400; total time=   5.0s\n"
     ]
    },
    {
     "name": "stderr",
     "output_type": "stream",
     "text": [
      "C:\\Users\\KIIT\\AppData\\Local\\Programs\\Python\\Python310\\lib\\site-packages\\sklearn\\model_selection\\_validation.py:686: DataConversionWarning: A column-vector y was passed when a 1d array was expected. Please change the shape of y to (n_samples,), for example using ravel().\n",
      "  estimator.fit(X_train, y_train, **fit_params)\n",
      "C:\\Users\\KIIT\\AppData\\Local\\Programs\\Python\\Python310\\lib\\site-packages\\sklearn\\ensemble\\_forest.py:413: FutureWarning: `max_features='auto'` has been deprecated in 1.1 and will be removed in 1.3. To keep the past behaviour, explicitly set `max_features=1.0` or remove this parameter as it is also the default value for RandomForestRegressors and ExtraTreesRegressors.\n",
      "  warn(\n"
     ]
    },
    {
     "name": "stdout",
     "output_type": "stream",
     "text": [
      "[CV] END max_depth=15, max_features=auto, min_samples_leaf=5, min_samples_split=5, n_estimators=400; total time=   5.4s\n"
     ]
    },
    {
     "name": "stderr",
     "output_type": "stream",
     "text": [
      "C:\\Users\\KIIT\\AppData\\Local\\Programs\\Python\\Python310\\lib\\site-packages\\sklearn\\model_selection\\_validation.py:686: DataConversionWarning: A column-vector y was passed when a 1d array was expected. Please change the shape of y to (n_samples,), for example using ravel().\n",
      "  estimator.fit(X_train, y_train, **fit_params)\n",
      "C:\\Users\\KIIT\\AppData\\Local\\Programs\\Python\\Python310\\lib\\site-packages\\sklearn\\ensemble\\_forest.py:413: FutureWarning: `max_features='auto'` has been deprecated in 1.1 and will be removed in 1.3. To keep the past behaviour, explicitly set `max_features=1.0` or remove this parameter as it is also the default value for RandomForestRegressors and ExtraTreesRegressors.\n",
      "  warn(\n"
     ]
    },
    {
     "name": "stdout",
     "output_type": "stream",
     "text": [
      "[CV] END max_depth=15, max_features=auto, min_samples_leaf=5, min_samples_split=5, n_estimators=400; total time=   5.2s\n"
     ]
    },
    {
     "name": "stderr",
     "output_type": "stream",
     "text": [
      "C:\\Users\\KIIT\\AppData\\Local\\Programs\\Python\\Python310\\lib\\site-packages\\sklearn\\model_selection\\_validation.py:686: DataConversionWarning: A column-vector y was passed when a 1d array was expected. Please change the shape of y to (n_samples,), for example using ravel().\n",
      "  estimator.fit(X_train, y_train, **fit_params)\n",
      "C:\\Users\\KIIT\\AppData\\Local\\Programs\\Python\\Python310\\lib\\site-packages\\sklearn\\ensemble\\_forest.py:413: FutureWarning: `max_features='auto'` has been deprecated in 1.1 and will be removed in 1.3. To keep the past behaviour, explicitly set `max_features=1.0` or remove this parameter as it is also the default value for RandomForestRegressors and ExtraTreesRegressors.\n",
      "  warn(\n"
     ]
    },
    {
     "name": "stdout",
     "output_type": "stream",
     "text": [
      "[CV] END max_depth=15, max_features=auto, min_samples_leaf=5, min_samples_split=5, n_estimators=400; total time=   4.7s\n"
     ]
    },
    {
     "name": "stderr",
     "output_type": "stream",
     "text": [
      "C:\\Users\\KIIT\\AppData\\Local\\Programs\\Python\\Python310\\lib\\site-packages\\sklearn\\model_selection\\_validation.py:686: DataConversionWarning: A column-vector y was passed when a 1d array was expected. Please change the shape of y to (n_samples,), for example using ravel().\n",
      "  estimator.fit(X_train, y_train, **fit_params)\n",
      "C:\\Users\\KIIT\\AppData\\Local\\Programs\\Python\\Python310\\lib\\site-packages\\sklearn\\ensemble\\_forest.py:413: FutureWarning: `max_features='auto'` has been deprecated in 1.1 and will be removed in 1.3. To keep the past behaviour, explicitly set `max_features=1.0` or remove this parameter as it is also the default value for RandomForestRegressors and ExtraTreesRegressors.\n",
      "  warn(\n"
     ]
    },
    {
     "name": "stdout",
     "output_type": "stream",
     "text": [
      "[CV] END max_depth=15, max_features=auto, min_samples_leaf=5, min_samples_split=5, n_estimators=400; total time=   4.9s\n"
     ]
    },
    {
     "name": "stderr",
     "output_type": "stream",
     "text": [
      "C:\\Users\\KIIT\\AppData\\Local\\Programs\\Python\\Python310\\lib\\site-packages\\sklearn\\model_selection\\_validation.py:686: DataConversionWarning: A column-vector y was passed when a 1d array was expected. Please change the shape of y to (n_samples,), for example using ravel().\n",
      "  estimator.fit(X_train, y_train, **fit_params)\n",
      "C:\\Users\\KIIT\\AppData\\Local\\Programs\\Python\\Python310\\lib\\site-packages\\sklearn\\ensemble\\_forest.py:413: FutureWarning: `max_features='auto'` has been deprecated in 1.1 and will be removed in 1.3. To keep the past behaviour, explicitly set `max_features=1.0` or remove this parameter as it is also the default value for RandomForestRegressors and ExtraTreesRegressors.\n",
      "  warn(\n"
     ]
    }
   ],
   "source": [
    "# -------------------------------------- Hyperparameter Tuning --------------------\n",
    "\n",
    "from sklearn.model_selection import RandomizedSearchCV\n",
    "\n",
    "#randomized search cv\n",
    "#first we will see what all parameters are required under randomized search cv\n",
    "\n",
    "\n",
    "# ----------------------------- Trees description ------------------------------\n",
    "\n",
    "\n",
    "# Number of trees in random forest\n",
    "n_estimators = [int(x) for x in np.linspace(start = 100, stop = 1200, num = 12)]\n",
    "# Number of features to consider at every split\n",
    "max_features = ['auto', 'sqrt']\n",
    "# Maximum number of levels in tree\n",
    "max_depth = [int(x) for x in np.linspace(5, 30, num = 6)]\n",
    "# Minimum number of samples required to split a node\n",
    "min_samples_split = [2, 5, 10, 15, 100]\n",
    "# Minimum number of samples required at each leaf node\n",
    "min_samples_leaf = [1, 2, 5, 10]\n",
    "\n",
    "\n",
    "# ---------------------------- Creating a random grid ------------------------------\n",
    "\n",
    "random_grid = {'n_estimators': n_estimators,\n",
    "               'max_features': max_features,\n",
    "               'max_depth': max_depth,\n",
    "               'min_samples_split': min_samples_split,\n",
    "               'min_samples_leaf': min_samples_leaf\n",
    "               }\n",
    "\n",
    "rf_random = RandomizedSearchCV(estimator = reg_rf, param_distributions = random_grid,scoring='neg_mean_squared_error', n_iter = 10, cv = 5, verbose=2, random_state=42, n_jobs = 1)\n",
    "rf_random.fit(X_train,y_train)\n",
    "\n",
    "\n",
    "# ---------------------------------------- finding the best parameters ----------------------------\n",
    "\n",
    "print(rf_random.best_params_)\n",
    "\n",
    "print(\"------ comopleted tilll here line 253 ----\")"
   ]
  },
  {
   "cell_type": "code",
   "execution_count": null,
   "id": "b72f3d38",
   "metadata": {},
   "outputs": [],
   "source": [
    "prediction = rf_random.predict(X_test)"
   ]
  },
  {
   "cell_type": "code",
   "execution_count": null,
   "id": "2631b71d",
   "metadata": {},
   "outputs": [],
   "source": [
    "plt.figure(figsize=(8, 8))\n",
    "sns.displot(y_test.values.ravel() - prediction)\n",
    "plt.show()"
   ]
  },
  {
   "cell_type": "code",
   "execution_count": null,
   "id": "393eda49",
   "metadata": {},
   "outputs": [],
   "source": [
    "plt.figure(figsize = (8,8))\n",
    "plt.scatter(y_test, prediction, alpha = 0.5)\n",
    "plt.xlabel(\"y_test\")\n",
    "plt.ylabel(\"y_pred\")\n",
    "plt.show()"
   ]
  },
  {
   "cell_type": "code",
   "execution_count": null,
   "id": "cdcd1edc",
   "metadata": {},
   "outputs": [],
   "source": [
    "print('MAE:', metrics.mean_absolute_error(y_test, prediction))\n",
    "print('MSE:', metrics.mean_squared_error(y_test, prediction))\n",
    "print('RMSE:', np.sqrt(metrics.mean_squared_error(y_test, prediction)))"
   ]
  },
  {
   "cell_type": "code",
   "execution_count": null,
   "id": "8e163120",
   "metadata": {},
   "outputs": [],
   "source": [
    "import pickle\n",
    "# open a file, where you ant to store the data\n",
    "file = open('sk1.pkl', 'wb')\n",
    "\n",
    "# dump information to that file\n",
    "pickle.dump(reg_rf, file)"
   ]
  },
  {
   "cell_type": "code",
   "execution_count": null,
   "id": "c3427fee",
   "metadata": {},
   "outputs": [],
   "source": [
    "model = open('sk1.pkl','rb')\n",
    "df['DATE'] = pd.to_datetime(df['DATE'])\n",
    "forest = pickle.load(model)"
   ]
  },
  {
   "cell_type": "code",
   "execution_count": null,
   "id": "bd89bae9",
   "metadata": {},
   "outputs": [],
   "source": [
    "import seaborn as sns\n",
    "import matplotlib.pyplot as plt\n",
    "df['DATE'] = pd.to_datetime(df['DATE'])\n",
    "df['MonthYear'] = df['DATE'].dt.to_period('M')\n",
    "sns.catplot(x='MonthYear', y='Gross Gen.', data=df, kind='boxen', aspect=3)\n",
    "plt.xticks(rotation=90)\n",
    "plt.xlabel('Month-Year')\n",
    "plt.ylabel('Gross Generation')\n",
    "plt.title('Monthly Gross Generation')\n",
    "plt.show()"
   ]
  },
  {
   "cell_type": "code",
   "execution_count": null,
   "id": "d1493148",
   "metadata": {},
   "outputs": [],
   "source": [
    "df.to_csv('test.csv')"
   ]
  }
 ],
 "metadata": {
  "kernelspec": {
   "display_name": "Python 3 (ipykernel)",
   "language": "python",
   "name": "python3"
  },
  "language_info": {
   "codemirror_mode": {
    "name": "ipython",
    "version": 3
   },
   "file_extension": ".py",
   "mimetype": "text/x-python",
   "name": "python",
   "nbconvert_exporter": "python",
   "pygments_lexer": "ipython3",
   "version": "3.10.5"
  }
 },
 "nbformat": 4,
 "nbformat_minor": 5
}
